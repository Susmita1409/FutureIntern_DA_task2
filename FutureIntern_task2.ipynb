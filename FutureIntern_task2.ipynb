{
  "nbformat": 4,
  "nbformat_minor": 0,
  "metadata": {
    "colab": {
      "provenance": []
    },
    "kernelspec": {
      "name": "python3",
      "display_name": "Python 3"
    },
    "language_info": {
      "name": "python"
    }
  },
  "cells": [
    {
      "cell_type": "code",
      "execution_count": null,
      "metadata": {
        "id": "F8cJWV_9Y9TO"
      },
      "outputs": [],
      "source": [
        "import pandas as pd\n"
      ]
    },
    {
      "cell_type": "code",
      "source": [
        "train_df = pd.read_csv(\"/content/sample_data/train.csv\")\n",
        "test_df = pd.read_csv(\"/content/sample_data/test.csv\")\n",
        "gender_submission_df = pd.read_csv(\"/content/sample_data/gender_submission.csv\")"
      ],
      "metadata": {
        "id": "mU9uzp4dbIfm"
      },
      "execution_count": null,
      "outputs": []
    },
    {
      "cell_type": "code",
      "source": [
        "print(\"Summary Statistics for Train Dataset:\")\n",
        "train_mean = train_df.mean(numeric_only=True)\n",
        "train_median = train_df.median(numeric_only=True)\n",
        "train_mode = train_df.mode().iloc[0]  # Take the first row if there are multiple modes\n",
        "train_std_dev = train_df.std(numeric_only=True)\n",
        "print(\"\\nTrain Mean:\\n\", train_mean)\n",
        "print(\"\\nTrain Median:\\n\", train_median)\n",
        "print(\"\\nTrain Mode:\\n\", train_mode)\n",
        "print(\"\\nTrain Standard Deviation:\\n\", train_std_dev)"
      ],
      "metadata": {
        "colab": {
          "base_uri": "https://localhost:8080/"
        },
        "id": "Vwns19u_bhPL",
        "outputId": "a4c9f534-9089-40f1-cfc5-28bce6e0667c"
      },
      "execution_count": null,
      "outputs": [
        {
          "output_type": "stream",
          "name": "stdout",
          "text": [
            "Summary Statistics for Train Dataset:\n",
            "\n",
            "Train Mean:\n",
            " PassengerId    446.000000\n",
            "Survived         0.383838\n",
            "Pclass           2.308642\n",
            "Age             29.699118\n",
            "SibSp            0.523008\n",
            "Parch            0.381594\n",
            "Fare            32.204208\n",
            "dtype: float64\n",
            "\n",
            "Train Median:\n",
            " PassengerId    446.0000\n",
            "Survived         0.0000\n",
            "Pclass           3.0000\n",
            "Age             28.0000\n",
            "SibSp            0.0000\n",
            "Parch            0.0000\n",
            "Fare            14.4542\n",
            "dtype: float64\n",
            "\n",
            "Train Mode:\n",
            " PassengerId                      1\n",
            "Survived                       0.0\n",
            "Pclass                         3.0\n",
            "Name           Abbing, Mr. Anthony\n",
            "Sex                           male\n",
            "Age                           24.0\n",
            "SibSp                          0.0\n",
            "Parch                          0.0\n",
            "Ticket                        1601\n",
            "Fare                          8.05\n",
            "Cabin                      B96 B98\n",
            "Embarked                         S\n",
            "Name: 0, dtype: object\n",
            "\n",
            "Train Standard Deviation:\n",
            " PassengerId    257.353842\n",
            "Survived         0.486592\n",
            "Pclass           0.836071\n",
            "Age             14.526497\n",
            "SibSp            1.102743\n",
            "Parch            0.806057\n",
            "Fare            49.693429\n",
            "dtype: float64\n"
          ]
        }
      ]
    },
    {
      "cell_type": "code",
      "source": [
        "print(\"\\n\\nSummary Statistics for Test Dataset:\")\n",
        "test_mean = test_df.mean(numeric_only=True)\n",
        "test_median = test_df.median(numeric_only=True)\n",
        "test_mode = test_df.mode().iloc[0]  # Take the first row if there are multiple modes\n",
        "test_std_dev = test_df.std(numeric_only=True)\n",
        "\n",
        "print(\"\\nTest Mean:\\n\", test_mean)\n",
        "print(\"\\nTest Median:\\n\", test_median)\n",
        "print(\"\\nTest Mode:\\n\", test_mode)\n",
        "print(\"\\nTest Standard Deviation:\\n\", test_std_dev)"
      ],
      "metadata": {
        "colab": {
          "base_uri": "https://localhost:8080/"
        },
        "id": "jBUmLVmWbtIk",
        "outputId": "230a4042-c48e-4568-f964-c15aa0219ada"
      },
      "execution_count": null,
      "outputs": [
        {
          "output_type": "stream",
          "name": "stdout",
          "text": [
            "\n",
            "\n",
            "Summary Statistics for Test Dataset:\n",
            "\n",
            "Test Mean:\n",
            " PassengerId    1100.500000\n",
            "Pclass            2.265550\n",
            "Age              30.272590\n",
            "SibSp             0.447368\n",
            "Parch             0.392344\n",
            "Fare             35.627188\n",
            "dtype: float64\n",
            "\n",
            "Test Median:\n",
            " PassengerId    1100.5000\n",
            "Pclass            3.0000\n",
            "Age              27.0000\n",
            "SibSp             0.0000\n",
            "Parch             0.0000\n",
            "Fare             14.4542\n",
            "dtype: float64\n",
            "\n",
            "Test Mode:\n",
            " PassengerId                              892\n",
            "Pclass                                   3.0\n",
            "Name           Abbott, Master. Eugene Joseph\n",
            "Sex                                     male\n",
            "Age                                     21.0\n",
            "SibSp                                    0.0\n",
            "Parch                                    0.0\n",
            "Ticket                              PC 17608\n",
            "Fare                                    7.75\n",
            "Cabin                        B57 B59 B63 B66\n",
            "Embarked                                   S\n",
            "Name: 0, dtype: object\n",
            "\n",
            "Test Standard Deviation:\n",
            " PassengerId    120.810458\n",
            "Pclass           0.841838\n",
            "Age             14.181209\n",
            "SibSp            0.896760\n",
            "Parch            0.981429\n",
            "Fare            55.907576\n",
            "dtype: float64\n"
          ]
        }
      ]
    },
    {
      "cell_type": "code",
      "source": [
        "print(\"\\n\\nGender Submission Data Preview:\")\n",
        "print(gender_submission_df.head())"
      ],
      "metadata": {
        "colab": {
          "base_uri": "https://localhost:8080/"
        },
        "id": "7PhotMu0b8yP",
        "outputId": "4678c50c-ea9a-41e2-883f-9c5313cd6d6e"
      },
      "execution_count": null,
      "outputs": [
        {
          "output_type": "stream",
          "name": "stdout",
          "text": [
            "\n",
            "\n",
            "Gender Submission Data Preview:\n",
            "   PassengerId  Survived\n",
            "0          892         0\n",
            "1          893         1\n",
            "2          894         0\n",
            "3          895         0\n",
            "4          896         1\n"
          ]
        }
      ]
    },
    {
      "cell_type": "code",
      "source": [
        "print(\"\\n\\nSummary Statistics for Gender Submission Dataset:\")\n",
        "gender_mean = gender_submission_df.mean(numeric_only=True)\n",
        "gender_median = gender_submission_df.median(numeric_only=True)\n",
        "gender_mode = gender_submission_df.mode().iloc[0]  # Take the first row if there are multiple modes\n",
        "gender_std_dev = gender_submission_df.std(numeric_only=True)\n",
        "\n",
        "print(\"\\nGender Submission Mean:\\n\", gender_mean)\n",
        "print(\"\\nGender Submission Median:\\n\", gender_median)\n",
        "print(\"\\nGender Submission Mode:\\n\", gender_mode)\n",
        "print(\"\\nGender Submission Standard Deviation:\\n\", gender_std_dev)"
      ],
      "metadata": {
        "colab": {
          "base_uri": "https://localhost:8080/"
        },
        "id": "wzCZ9XZschTs",
        "outputId": "e7123cad-ad80-4dfc-cc8e-174287e0f763"
      },
      "execution_count": null,
      "outputs": [
        {
          "output_type": "stream",
          "name": "stdout",
          "text": [
            "\n",
            "\n",
            "Summary Statistics for Gender Submission Dataset:\n",
            "\n",
            "Gender Submission Mean:\n",
            " PassengerId    1100.500000\n",
            "Survived          0.363636\n",
            "dtype: float64\n",
            "\n",
            "Gender Submission Median:\n",
            " PassengerId    1100.5\n",
            "Survived          0.0\n",
            "dtype: float64\n",
            "\n",
            "Gender Submission Mode:\n",
            " PassengerId    892.0\n",
            "Survived         0.0\n",
            "Name: 0, dtype: float64\n",
            "\n",
            "Gender Submission Standard Deviation:\n",
            " PassengerId    120.810458\n",
            "Survived         0.481622\n",
            "dtype: float64\n"
          ]
        }
      ]
    }
  ]
}